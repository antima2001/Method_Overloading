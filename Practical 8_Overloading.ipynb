{
 "cells": [
  {
   "cell_type": "markdown",
   "id": "b064c8e9",
   "metadata": {},
   "source": [
    "Using Function Overloading in Python, let us write a code to calculate the area of figure.\n",
    "We are setting the default values of the parameters as None, and we will call the same function having varying parameters. "
   ]
  },
  {
   "cell_type": "code",
   "execution_count": 3,
   "id": "064b08eb",
   "metadata": {},
   "outputs": [
    {
     "name": "stdout",
     "output_type": "stream",
     "text": [
      "Area of the triangle 38.0\n",
      "Area of the square 169\n",
      "Area of the rectangle 1575\n"
     ]
    }
   ],
   "source": [
    "class areaClass_antima:\n",
    "    def area_antima(self,a,b=None,c=None,d=None):\n",
    "        \n",
    "        #when a and c are passed as arguments\n",
    "        if a!=None and b!=None and a!=b and a!=c:\n",
    "            print(\"Area of the triangle\",(0.5*a*b))\n",
    "            \n",
    "        #when a,b,c and d are passed as arguments\n",
    "        elif(b!=None and c!=None and d!=None and a==b and a==c):\n",
    "            print(\"Area of the square\",(a*c))\n",
    "            \n",
    "        elif(b==None and c==None and d==None):\n",
    "            print(\"Enter more numbers\")\n",
    "        else:\n",
    "            if(a==c):\n",
    "                print(\"Area of the rectangle\",(a*b))\n",
    "            else:\n",
    "                print(\"Area of the rectangle\",(a*c))\n",
    "obj=areaClass_antima()\n",
    "obj.area_antima(19,4,7) #Area of the triangle\n",
    "obj.area_antima(13,13,13,13) #Area of the square\n",
    "obj.area_antima(45,35,45,67) #Area of the rectangle"
   ]
  },
  {
   "cell_type": "code",
   "execution_count": null,
   "id": "dd8371a6",
   "metadata": {},
   "outputs": [],
   "source": []
  }
 ],
 "metadata": {
  "kernelspec": {
   "display_name": "Python 3 (ipykernel)",
   "language": "python",
   "name": "python3"
  },
  "language_info": {
   "codemirror_mode": {
    "name": "ipython",
    "version": 3
   },
   "file_extension": ".py",
   "mimetype": "text/x-python",
   "name": "python",
   "nbconvert_exporter": "python",
   "pygments_lexer": "ipython3",
   "version": "3.9.12"
  }
 },
 "nbformat": 4,
 "nbformat_minor": 5
}
